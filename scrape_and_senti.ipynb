{
 "cells": [
  {
   "cell_type": "code",
   "execution_count": 86,
   "metadata": {},
   "outputs": [],
   "source": [
    "from bs4 import BeautifulSoup\n",
    "import pandas as pd\n",
    "import requests\n",
    "import urllib3"
   ]
  },
  {
   "cell_type": "code",
   "execution_count": 91,
   "metadata": {},
   "outputs": [],
   "source": [
    "filename = \"tickers.csv\"\n",
    "f = open(filename,\"w\")\n",
    "headers = \"ticker\\n\"\n",
    "f.write(headers)\n",
    "url = \"https://in.finance.yahoo.com/quote/%5EIXIC/components?p=%5EIXIC\"\n",
    "source = requests.get(url,headers={'User-Agent': 'Mozilla/5.0'})\n",
    "bs_tree = BeautifulSoup(source.text, \"html.parser\")\n",
    "names = bs_tree.findAll('a',class_ =\"C($linkColor) Cur(p) Td(n) Fw(500)\")\n",
    "for index in range(len(names)):\n",
    "    name = names[index]\n",
    "    f.write(name.text+\"\\n\")\n",
    "url = \"https://in.finance.yahoo.com/quote/%5EDJI/components?p=%5EDJI\"\n",
    "source = requests.get(url,headers={'User-Agent': 'Mozilla/5.0'})\n",
    "bs_tree = BeautifulSoup(source.text, \"html.parser\")\n",
    "names = bs_tree.findAll('a',class_ =\"C($linkColor) Cur(p) Td(n) Fw(500)\")\n",
    "for index in range(len(names)):\n",
    "    name = names[index]\n",
    "    f.write(name.text+\"\\n\")\n",
    "f.close()"
   ]
  },
  {
   "cell_type": "code",
   "execution_count": 61,
   "metadata": {},
   "outputs": [],
   "source": [
    "filename = \"news.csv\"\n",
    "f = open(filename,\"w\")\n",
    "headers = \"ticker,news1,news2,news3\\n\"\n",
    "f.write(headers)\n",
    "df = pd.read_csv(\"tickers.csv\")\n",
    "for index in range(len(df['ticker'])):\n",
    "    ticker = df['ticker'][index]\n",
    "    url = \"https://finviz.com/quote.ashx?t=\"+ticker.lower()\n",
    "    req = requests.get(url,headers={'User-Agent': 'Mozilla/5.0'})\n",
    "    soup = BeautifulSoup(req.text,\"html.parser\")\n",
    "    news = soup.findAll('a',class_ = \"tab-link-news\",limit = 3)\n",
    "    news1 = news[0].text\n",
    "    news2 = news[1].text\n",
    "    news3 = news[2].text\n",
    "    f.write(ticker+\",\"+news1.replace(\",\",\"|\").strip()+\",\"+news2.replace(\",\",\"|\").strip()+\",\"+news3.replace(\",\",\"|\").strip()+\"\\n\")\n",
    "f.close()"
   ]
  },
  {
   "cell_type": "code",
   "execution_count": 62,
   "metadata": {},
   "outputs": [
    {
     "data": {
      "text/html": [
       "<div>\n",
       "<style scoped>\n",
       "    .dataframe tbody tr th:only-of-type {\n",
       "        vertical-align: middle;\n",
       "    }\n",
       "\n",
       "    .dataframe tbody tr th {\n",
       "        vertical-align: top;\n",
       "    }\n",
       "\n",
       "    .dataframe thead th {\n",
       "        text-align: right;\n",
       "    }\n",
       "</style>\n",
       "<table border=\"1\" class=\"dataframe\">\n",
       "  <thead>\n",
       "    <tr style=\"text-align: right;\">\n",
       "      <th></th>\n",
       "      <th>ticker</th>\n",
       "      <th>news1</th>\n",
       "      <th>news2</th>\n",
       "      <th>news3</th>\n",
       "    </tr>\n",
       "  </thead>\n",
       "  <tbody>\n",
       "    <tr>\n",
       "      <th>0</th>\n",
       "      <td>FEYE</td>\n",
       "      <td>3 Cybersecurity Stocks That May Give Double-Di...</td>\n",
       "      <td>SHAREHOLDER ALERT: Pomerantz Law Firm Investig...</td>\n",
       "      <td>Can You Imagine How FireEye's (NASDAQ:FEYE) Sh...</td>\n",
       "    </tr>\n",
       "    <tr>\n",
       "      <th>1</th>\n",
       "      <td>ATEC</td>\n",
       "      <td>ATEC Continues to Advance Clinical Prowess wit...</td>\n",
       "      <td>Is ATEC A Good Stock To Buy Now?</td>\n",
       "      <td>ATEC to Participate in Upcoming Investor Confe...</td>\n",
       "    </tr>\n",
       "    <tr>\n",
       "      <th>2</th>\n",
       "      <td>SLAB</td>\n",
       "      <td>Silicon Labs Drives IoT Industry Forward in 2020</td>\n",
       "      <td>Does Silicon Laboratories (NASDAQ:SLAB) Have A...</td>\n",
       "      <td>Silicon Laboratories Shows Rising Relative Str...</td>\n",
       "    </tr>\n",
       "    <tr>\n",
       "      <th>3</th>\n",
       "      <td>CMRX</td>\n",
       "      <td>Did Business Growth Power Chimerix's (NASDAQ:C...</td>\n",
       "      <td>Is CMRX A Good Stock To Buy Now?</td>\n",
       "      <td>Chimerx's (CMRX) NDA for Brincidofovir Accepte...</td>\n",
       "    </tr>\n",
       "    <tr>\n",
       "      <th>4</th>\n",
       "      <td>NVCR</td>\n",
       "      <td>Novocure to Participate in the 39th Annual J.P...</td>\n",
       "      <td>Is NVCR A Good Stock To Buy Now According To H...</td>\n",
       "      <td>Novocure Announces National Reimbursement in S...</td>\n",
       "    </tr>\n",
       "  </tbody>\n",
       "</table>\n",
       "</div>"
      ],
      "text/plain": [
       "  ticker                                              news1  \\\n",
       "0   FEYE  3 Cybersecurity Stocks That May Give Double-Di...   \n",
       "1   ATEC  ATEC Continues to Advance Clinical Prowess wit...   \n",
       "2   SLAB   Silicon Labs Drives IoT Industry Forward in 2020   \n",
       "3   CMRX  Did Business Growth Power Chimerix's (NASDAQ:C...   \n",
       "4   NVCR  Novocure to Participate in the 39th Annual J.P...   \n",
       "\n",
       "                                               news2  \\\n",
       "0  SHAREHOLDER ALERT: Pomerantz Law Firm Investig...   \n",
       "1                   Is ATEC A Good Stock To Buy Now?   \n",
       "2  Does Silicon Laboratories (NASDAQ:SLAB) Have A...   \n",
       "3                   Is CMRX A Good Stock To Buy Now?   \n",
       "4  Is NVCR A Good Stock To Buy Now According To H...   \n",
       "\n",
       "                                               news3  \n",
       "0  Can You Imagine How FireEye's (NASDAQ:FEYE) Sh...  \n",
       "1  ATEC to Participate in Upcoming Investor Confe...  \n",
       "2  Silicon Laboratories Shows Rising Relative Str...  \n",
       "3  Chimerx's (CMRX) NDA for Brincidofovir Accepte...  \n",
       "4  Novocure Announces National Reimbursement in S...  "
      ]
     },
     "execution_count": 62,
     "metadata": {},
     "output_type": "execute_result"
    }
   ],
   "source": [
    "df2 = pd.read_csv(\"news.csv\")\n",
    "df2.head()"
   ]
  },
  {
   "cell_type": "code",
   "execution_count": null,
   "metadata": {},
   "outputs": [],
   "source": []
  }
 ],
 "metadata": {
  "kernelspec": {
   "display_name": "Python 3",
   "language": "python",
   "name": "python3"
  },
  "language_info": {
   "codemirror_mode": {
    "name": "ipython",
    "version": 3
   },
   "file_extension": ".py",
   "mimetype": "text/x-python",
   "name": "python",
   "nbconvert_exporter": "python",
   "pygments_lexer": "ipython3",
   "version": "3.8.3"
  }
 },
 "nbformat": 4,
 "nbformat_minor": 4
}
